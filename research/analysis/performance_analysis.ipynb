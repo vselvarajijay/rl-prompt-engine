{
  "cells": [
    {
      "cell_type": "markdown",
      "metadata": {},
      "source": [
        "# RL Sales Agent Performance Analysis\n",
        "\n",
        "This notebook analyzes the performance of the RL-powered sales agent system.\n",
        "\n",
        "## Objectives\n",
        "1. Load and analyze evaluation data\n",
        "2. Generate performance visualizations\n",
        "3. Compare different model configurations\n",
        "4. Analyze component usage patterns\n",
        "5. Create figures for research paper\n"
      ]
    },
    {
      "cell_type": "code",
      "execution_count": null,
      "metadata": {},
      "outputs": [],
      "source": [
        "import numpy as np\n",
        "import matplotlib.pyplot as plt\n",
        "import seaborn as sns\n",
        "import pandas as pd\n",
        "from pathlib import Path\n",
        "import json\n",
        "\n",
        "# Set up plotting style\n",
        "plt.style.use('seaborn-v0_8')\n",
        "sns.set_palette(\"husl\")\n",
        "\n",
        "# Set paths\n",
        "data_dir = Path('../paper/data')\n",
        "figures_dir = Path('../paper/figures/results')\n",
        "figures_dir.mkdir(parents=True, exist_ok=True)\n",
        "\n",
        "print(\"Setup complete!\")\n"
      ]
    }
  ],
  "metadata": {
    "language_info": {
      "name": "python"
    }
  },
  "nbformat": 4,
  "nbformat_minor": 2
}
